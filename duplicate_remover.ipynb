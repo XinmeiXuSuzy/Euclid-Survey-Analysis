{
 "cells": [
  {
   "cell_type": "markdown",
   "id": "f17a92d4",
   "metadata": {},
   "source": [
    "# Duplicate removal algorithm\n",
    "Takes in a directory with duplicate image files, copies the unique files to another directory"
   ]
  },
  {
   "cell_type": "code",
   "execution_count": 208,
   "id": "4361d0fa",
   "metadata": {},
   "outputs": [],
   "source": [
    "from pathlib import Path\n",
    "import math\n",
    "import json\n",
    "import os\n",
    "import shutil\n",
    "import numpy as np\n",
    "from PIL import Image \n",
    "import matplotlib.pyplot as plt"
   ]
  },
  {
   "cell_type": "markdown",
   "id": "f4cd35cd",
   "metadata": {},
   "source": [
    "### 1. Process the duplicate file names"
   ]
  },
  {
   "cell_type": "code",
   "execution_count": 222,
   "id": "81b7a0ca",
   "metadata": {},
   "outputs": [
    {
     "data": {
      "text/plain": [
       "True"
      ]
     },
     "execution_count": 222,
     "metadata": {},
     "output_type": "execute_result"
    }
   ],
   "source": [
    "dup_path = Path('./top4point3k_no_star_beams')\n",
    "dup_path.exists()"
   ]
  },
  {
   "cell_type": "code",
   "execution_count": 223,
   "id": "2df92d57",
   "metadata": {},
   "outputs": [],
   "source": [
    "with open('./_labels.json', 'r')as file:\n",
    "    dict = json.load(file)\n",
    "for key,value in dict.items():\n",
    "    if value == 'star_beam':\n",
    "        os.remove(f'./top4point3k_no_star_beams/{key}')"
   ]
  },
  {
   "cell_type": "code",
   "execution_count": null,
   "id": "9d95b292",
   "metadata": {},
   "outputs": [],
   "source": [
    "dup_names = []\n",
    "org_file_paths = []\n",
    "for path in dup_path.iterdir():\n",
    "    if path.name[-3:] == 'png': \n",
    "        org_file_paths.append(str(path)) # add to dict as key\n",
    "        dup_names.append(str(path.name[14:-4])) # add to dict as value\n",
    "# sort the dict using values"
   ]
  },
  {
   "cell_type": "code",
   "execution_count": null,
   "id": "945cf7c5",
   "metadata": {},
   "outputs": [],
   "source": [
    "dup_names = []\n",
    "org_file_paths = []\n",
    "\n",
    "for path in dup_path.iterdir():\n",
    "    if path.suffix.lower() == \".png\":\n",
    "        org_file_paths.append(str(path))            \n",
    "        dup_names.append(path.name[14:-4])          \n",
    "\n",
    "\n",
    "dup_dict = dict(zip(org_file_paths, dup_names))\n",
    "\n",
    "dup_dict_sorted = dict(sorted(dup_dict.items(), key=lambda item: item[1]))\n",
    "\n",
    "org_file_paths_sorted = list(dup_dict_sorted.keys())\n",
    "dup_names_sorted      = list(dup_dict_sorted.values())\n"
   ]
  },
  {
   "cell_type": "markdown",
   "id": "8adc0c1f",
   "metadata": {},
   "source": [
    "### 2. Extract the RA and DEC values of the duplicate images"
   ]
  },
  {
   "cell_type": "code",
   "execution_count": 240,
   "id": "3a818ddb",
   "metadata": {},
   "outputs": [],
   "source": [
    "ra_lst = []\n",
    "dec_lst = []\n",
    "for name in dup_names:\n",
    "    ra_lst.append(int(name[:10]) / 10**7)\n",
    "    dec_lst.append(int(name[10:]) / 10**7)"
   ]
  },
  {
   "cell_type": "markdown",
   "id": "b98976ae",
   "metadata": {},
   "source": [
    "### 3. Compute the Euclidean distance between each galaxy objects (ranked)"
   ]
  },
  {
   "cell_type": "code",
   "execution_count": 241,
   "id": "aec2b3f0",
   "metadata": {},
   "outputs": [],
   "source": [
    "ra_dif_lst = []\n",
    "for index, ra in enumerate(ra_lst):\n",
    "    if index == len(ra_lst) - 1:\n",
    "        break\n",
    "    else:\n",
    "        ra_dif_lst.append(abs(ra_lst[index] - ra_lst[index + 1]))"
   ]
  },
  {
   "cell_type": "code",
   "execution_count": 242,
   "id": "e9910346",
   "metadata": {},
   "outputs": [],
   "source": [
    "dec_dif_lst = []\n",
    "for index, dec in enumerate(dec_lst):\n",
    "    if index == len(dec_lst) - 1:\n",
    "        break\n",
    "    else:\n",
    "        dec_dif_lst.append(abs(dec_lst[index] - dec_lst[index + 1]))"
   ]
  },
  {
   "cell_type": "code",
   "execution_count": 243,
   "id": "d0f7efa3",
   "metadata": {},
   "outputs": [],
   "source": [
    "euc_dis = []\n",
    "for i in range(len(ra_dif_lst)):\n",
    "    euc_dis.append(math.sqrt(ra_dif_lst[i]**2 + dec_dif_lst[i]**2))"
   ]
  },
  {
   "cell_type": "markdown",
   "id": "0a8d63b9",
   "metadata": {},
   "source": [
    "### 4. Extract the indices of where the small differences occur"
   ]
  },
  {
   "cell_type": "code",
   "execution_count": 244,
   "id": "111328b8",
   "metadata": {},
   "outputs": [
    {
     "name": "stdout",
     "output_type": "stream",
     "text": [
      "356\n"
     ]
    }
   ],
   "source": [
    "count = 0\n",
    "small_index = []\n",
    "for i, elem in enumerate(euc_dis):\n",
    "    if elem < 0.005:\n",
    "        # print(f'{i}, {elem}')\n",
    "        count += 1\n",
    "        small_index.append(i)\n",
    "        small_index.append(i+1)\n",
    "small_index = set(small_index)\n",
    "print(len(small_index))"
   ]
  },
  {
   "cell_type": "code",
   "execution_count": 245,
   "id": "954d8520",
   "metadata": {},
   "outputs": [],
   "source": [
    "small_index = list(small_index)\n",
    "small_index.sort()"
   ]
  },
  {
   "cell_type": "markdown",
   "id": "7089295e",
   "metadata": {},
   "source": [
    "### 5. Avoid including those with more than 2 duplicates"
   ]
  },
  {
   "cell_type": "code",
   "execution_count": 246,
   "id": "01120ebe",
   "metadata": {},
   "outputs": [
    {
     "data": {
      "text/plain": [
       "193"
      ]
     },
     "execution_count": 246,
     "metadata": {},
     "output_type": "execute_result"
    }
   ],
   "source": [
    "unique_index = [small_index[0]]\n",
    "dup_index = []\n",
    "for i in range(1, len(small_index)):\n",
    "   if (small_index[i] - small_index[i-1]) == 1:\n",
    "      dup_index.append(small_index[i])\n",
    "   else:\n",
    "      unique_index.append(small_index[i])\n",
    "len(unique_index)\n",
    "len(dup_index)"
   ]
  },
  {
   "cell_type": "code",
   "execution_count": 247,
   "id": "61b9c93e",
   "metadata": {},
   "outputs": [],
   "source": [
    "all_index = list(range(4311))\n",
    "all_unique = set(all_index) - set(dup_index)"
   ]
  },
  {
   "cell_type": "code",
   "execution_count": 248,
   "id": "58d3e4cb",
   "metadata": {},
   "outputs": [],
   "source": [
    "all_unique = list(all_unique)\n",
    "all_unique.sort()"
   ]
  },
  {
   "cell_type": "markdown",
   "id": "b1481536",
   "metadata": {},
   "source": [
    "### 6. Convert RA and DEC values in matching with their orginal file names"
   ]
  },
  {
   "cell_type": "code",
   "execution_count": 153,
   "id": "a82bba9f",
   "metadata": {},
   "outputs": [],
   "source": [
    "unique_lst = []\n",
    "for index in all_unique:\n",
    "    unique_lst.append(str(int(ra_lst[index] * 10**7)) + str(int(dec_lst[index] * 10**7)))"
   ]
  },
  {
   "cell_type": "code",
   "execution_count": 159,
   "id": "cf43aff3",
   "metadata": {},
   "outputs": [
    {
     "data": {
      "text/plain": [
       "3656"
      ]
     },
     "execution_count": 159,
     "metadata": {},
     "output_type": "execute_result"
    }
   ],
   "source": [
    "len(set.intersection(set(unique_lst), set(dup_names)))"
   ]
  },
  {
   "cell_type": "code",
   "execution_count": 213,
   "id": "467a7b56",
   "metadata": {},
   "outputs": [],
   "source": [
    "org_file_paths = []\n",
    "for path in dup_path.iterdir():\n",
    "    if path.name[-3:] == 'png':\n",
    "        org_file_paths.append(str(path))"
   ]
  },
  {
   "cell_type": "code",
   "execution_count": 156,
   "id": "c44a0302",
   "metadata": {},
   "outputs": [
    {
     "name": "stdout",
     "output_type": "stream",
     "text": [
      "3656\n"
     ]
    }
   ],
   "source": [
    "count = 0\n",
    "for file in org_file_paths:\n",
    "    if str(Path(file).name[14:-4]) in unique_lst:\n",
    "        shutil.copy(file, './uniques')\n",
    "        count += 1\n",
    "print(count)"
   ]
  },
  {
   "cell_type": "code",
   "execution_count": 158,
   "id": "4f19df03",
   "metadata": {},
   "outputs": [
    {
     "data": {
      "text/plain": [
       "4118"
      ]
     },
     "execution_count": 158,
     "metadata": {},
     "output_type": "execute_result"
    }
   ],
   "source": [
    "len(set(unique_lst))"
   ]
  },
  {
   "cell_type": "code",
   "execution_count": 132,
   "id": "341ceba2",
   "metadata": {},
   "outputs": [],
   "source": [
    "dup_lst = []\n",
    "for index in dup_index:\n",
    "    dup_lst.append(str(int(ra_lst[index] * 10**7)) + str(int(dec_lst[index] * 10**7)))"
   ]
  },
  {
   "cell_type": "code",
   "execution_count": 214,
   "id": "ad757e68",
   "metadata": {},
   "outputs": [
    {
     "name": "stdout",
     "output_type": "stream",
     "text": [
      "193\n"
     ]
    }
   ],
   "source": [
    "count = 0\n",
    "for file in org_file_paths:\n",
    "    if str(Path(file).name[14:-4]) in dup_paths:\n",
    "        shutil.copy(file, './dups')\n",
    "        os.remove(file)\n",
    "        count += 1 \n",
    "print(count)"
   ]
  },
  {
   "cell_type": "code",
   "execution_count": 163,
   "id": "0d48830a",
   "metadata": {},
   "outputs": [],
   "source": [
    "unique_paths = []\n",
    "dup_paths = []\n",
    "for index in unique_index:\n",
    "    unique_paths.append(dup_names[index])\n",
    "for index in dup_index:\n",
    "    dup_paths.append(dup_names[index])"
   ]
  },
  {
   "cell_type": "code",
   "execution_count": 211,
   "id": "2e0aa566",
   "metadata": {},
   "outputs": [
    {
     "data": {
      "text/plain": [
       "['-508975565280317915',\n",
       " '-510363299272415391',\n",
       " '-510375305272406791',\n",
       " '-516559001286493665',\n",
       " '-517057907263824311',\n",
       " '-518257315265810663',\n",
       " '-519633493274252905',\n",
       " '-519641257274251194',\n",
       " '-520471782290867053',\n",
       " '-520791097292457766',\n",
       " '-521502217289039279',\n",
       " '-522559432273105502',\n",
       " '-522665815264927259',\n",
       " '-524894428278018246',\n",
       " '-527330118300603942',\n",
       " '-527577632288799735',\n",
       " '-527926213298891522',\n",
       " '-528004470269276789',\n",
       " '-528018874269569028',\n",
       " '-528302215298292618',\n",
       " '-528793443276365897',\n",
       " '-529760884271850076',\n",
       " '-529816842292538634',\n",
       " '-530550984262407051',\n",
       " '-531773951266911436',\n",
       " '-531782867262094267',\n",
       " '-531788851262094185',\n",
       " '-532987059276316844',\n",
       " '-533251142291509670',\n",
       " '-535702895269678839',\n",
       " '-537882109275632048',\n",
       " '-538586151280259068',\n",
       " '-544466425288247784',\n",
       " '-544707905290336324',\n",
       " '-544714689290335871',\n",
       " '-546240771286837023',\n",
       " '-546242757286832025',\n",
       " '-546245791286829440',\n",
       " '-546410496281250580',\n",
       " '-546415038281259253',\n",
       " '-546444999281235556',\n",
       " '-550683279289700727',\n",
       " '-554364696495554940',\n",
       " '-554672577486973111',\n",
       " '-563417006487202565',\n",
       " '-565408545499882783',\n",
       " '-567562469505785093',\n",
       " '-568198596508271267',\n",
       " '-568641581500858300',\n",
       " '-568643464500861225',\n",
       " '-568644409500855547',\n",
       " '-568919155497446978',\n",
       " '-570707912486899313',\n",
       " '-574044098512333013',\n",
       " '-574452019480965305',\n",
       " '-575758716509311713',\n",
       " '-576638285511377541',\n",
       " '-576992448489490680',\n",
       " '-579621560492550399',\n",
       " '-581860128478845996',\n",
       " '-581925582481547760',\n",
       " '-584138409477405231',\n",
       " '-584549265514725657',\n",
       " '-585131565488109327',\n",
       " '-587539179496148448',\n",
       " '-590207408500956981',\n",
       " '-590208591500962155',\n",
       " '-590850617499566372',\n",
       " '-594979069474216401',\n",
       " '-595123114491324929',\n",
       " '-595126709491324143',\n",
       " '-596262466490614319',\n",
       " '-597005067501500364',\n",
       " '-597057911465688830',\n",
       " '-602729539465587373',\n",
       " '-602738130465582536',\n",
       " '-602935164479449468',\n",
       " '-604000826507443255',\n",
       " '-604843052490671925',\n",
       " '-606434719500986478',\n",
       " '-606436616500991091',\n",
       " '-608994552484734237',\n",
       " '-610030675461179243',\n",
       " '-611258981471595401',\n",
       " '-612545150486042170',\n",
       " '-613073830477754531',\n",
       " '-614668541473419610',\n",
       " '-616066803472801961',\n",
       " '-616600503506266150',\n",
       " '-621651817488230768',\n",
       " '-622195890472942139',\n",
       " '-622448834456591991',\n",
       " '-624137799493126348',\n",
       " '-628467691459301890',\n",
       " '-631331408479959133',\n",
       " '-631767272463617608',\n",
       " '-631838767455336326',\n",
       " '-632575884473969454',\n",
       " '-632577837473978735',\n",
       " '-632647433478586526',\n",
       " '-633382827461467539',\n",
       " '-633812323456738882',\n",
       " '-634146279486865014',\n",
       " '-634256137495282256',\n",
       " '-634930559463217882',\n",
       " '-635441436461670511',\n",
       " '-637322899468503949',\n",
       " '-637845892475954405',\n",
       " '-637928660482715254',\n",
       " '-640116894479878133',\n",
       " '-641182790482032390',\n",
       " '-642865876488819024',\n",
       " '-643028051474585477',\n",
       " '-643037447474590658',\n",
       " '-645076007491634046',\n",
       " '-647885616493220652',\n",
       " '-650312660474055399',\n",
       " '-653290299470260264',\n",
       " '-655101591464848180',\n",
       " '-657545464483151702',\n",
       " '-658912436467493415',\n",
       " '-666356821481458117',\n",
       " '-666846889481107505',\n",
       " '-668752801480181762',\n",
       " '2634862395665069785',\n",
       " '2636197729648574529',\n",
       " '2637411589649673838',\n",
       " '2640946358670447384',\n",
       " '2648278334668209486',\n",
       " '2651481966665781023',\n",
       " '2653710683677919541',\n",
       " '2654337786643538414',\n",
       " '2654338269643534583',\n",
       " '2654874305672832764',\n",
       " '2655178674656542701',\n",
       " '2655972004661761656',\n",
       " '2659962484666825071',\n",
       " '2661023200643425783',\n",
       " '2661905474658064134',\n",
       " '2664223683630899322',\n",
       " '2667596748662187959',\n",
       " '2667601418662195395',\n",
       " '2668207828640978101',\n",
       " '2669061069659420299',\n",
       " '2672984800683040764',\n",
       " '2676638165648460586',\n",
       " '2676882113666775477',\n",
       " '2677097825669155127',\n",
       " '2677619138676060190',\n",
       " '2680765409652093474',\n",
       " '2681138227670630142',\n",
       " '2684644720675182718',\n",
       " '2686053300644552101',\n",
       " '2687953491665618788',\n",
       " '2691214973666481835',\n",
       " '2691231845666485840',\n",
       " '2694567746678146869',\n",
       " '2694778835637135405',\n",
       " '2695095680666455288',\n",
       " '2698638629656056392',\n",
       " '2699526954649267167',\n",
       " '2699896914654311553',\n",
       " '2701280946678935592',\n",
       " '2701769735661392568',\n",
       " '2707577628681427524',\n",
       " '2707583276681427067',\n",
       " '2707772680644719058',\n",
       " '2714902038675586589',\n",
       " '2714914547675584018',\n",
       " '2715962575636036663',\n",
       " '2716539294638423558',\n",
       " '2716552208674838777',\n",
       " '2716567965674843325',\n",
       " '2718279515639619297',\n",
       " '2723756941685269307',\n",
       " '2726259594679468425',\n",
       " '2726444489683517630',\n",
       " '2727446636646498997',\n",
       " '2730503212660283120',\n",
       " '2730512405660279528',\n",
       " '2730517715660278375',\n",
       " '2730666284652154209',\n",
       " '2732734595653040625',\n",
       " '2733172349648601307',\n",
       " '2740345799684548247',\n",
       " '2747582426656493966',\n",
       " '2751566517656001273',\n",
       " '2753262797654752521',\n",
       " '2753531898650964664',\n",
       " '2753949168667163650',\n",
       " '2754324737674495974',\n",
       " '2754515897663903575',\n",
       " '2754525574663906913']"
      ]
     },
     "execution_count": 211,
     "metadata": {},
     "output_type": "execute_result"
    }
   ],
   "source": [
    "dup_paths"
   ]
  },
  {
   "cell_type": "code",
   "execution_count": 173,
   "id": "b97a6a4e",
   "metadata": {},
   "outputs": [],
   "source": [
    "org_file_paths = []\n",
    "for image in Path(dup_path).iterdir():\n",
    "    org_file_paths.append(str(image))"
   ]
  },
  {
   "cell_type": "code",
   "execution_count": 175,
   "id": "06072b95",
   "metadata": {},
   "outputs": [
    {
     "data": {
      "text/plain": [
       "<matplotlib.image.AxesImage at 0x1222d0890>"
      ]
     },
     "execution_count": 175,
     "metadata": {},
     "output_type": "execute_result"
    },
    {
     "data": {
      "image/png": "[encoded data removed]",
      "text/plain": [
       "<Figure size 640x480 with 1 Axes>"
      ]
     },
     "metadata": {},
     "output_type": "display_data"
    }
   ],
   "source": [
    "plt.imshow(Image.open(org_file_paths[10]))"
   ]
  },
  {
   "cell_type": "code",
   "execution_count": 196,
   "id": "a6b8b35a",
   "metadata": {},
   "outputs": [
    {
     "data": {
      "text/plain": [
       "array([[[15,  9, 12],\n",
       "        [19,  9, 16],\n",
       "        [12,  5,  5],\n",
       "        ...,\n",
       "        [14, 11,  9],\n",
       "        [18, 14, 18],\n",
       "        [10,  9,  7]],\n",
       "\n",
       "       [[20, 13, 24],\n",
       "        [14,  7,  9],\n",
       "        [21, 12, 21],\n",
       "        ...,\n",
       "        [ 7,  6,  3],\n",
       "        [ 5,  5,  1],\n",
       "        [ 1,  1,  0]],\n",
       "\n",
       "       [[15, 12, 20],\n",
       "        [ 9,  7,  6],\n",
       "        [15, 13, 19],\n",
       "        ...,\n",
       "        [ 2,  3,  0],\n",
       "        [ 6,  8,  4],\n",
       "        [ 3,  4,  1]],\n",
       "\n",
       "       ...,\n",
       "\n",
       "       [[ 3,  2,  0],\n",
       "        [ 8,  5,  4],\n",
       "        [14,  9, 13],\n",
       "        ...,\n",
       "        [ 7,  5,  4],\n",
       "        [13, 11, 22],\n",
       "        [11, 18, 46]],\n",
       "\n",
       "       [[ 6,  6,  5],\n",
       "        [10,  7,  9],\n",
       "        [ 5,  4,  2],\n",
       "        ...,\n",
       "        [ 8,  9, 10],\n",
       "        [ 7,  9, 10],\n",
       "        [ 6,  9,  8]],\n",
       "\n",
       "       [[14, 13, 38],\n",
       "        [15, 10, 23],\n",
       "        [ 9,  5,  6],\n",
       "        ...,\n",
       "        [10, 16, 24],\n",
       "        [ 8, 13, 14],\n",
       "        [ 5,  7,  4]]], dtype=uint8)"
      ]
     },
     "execution_count": 196,
     "metadata": {},
     "output_type": "execute_result"
    }
   ],
   "source": [
    "np.array(Image.open(org_file_paths[10]))"
   ]
  },
  {
   "cell_type": "code",
   "execution_count": 176,
   "id": "4b014ef6",
   "metadata": {},
   "outputs": [
    {
     "data": {
      "text/plain": [
       "<matplotlib.image.AxesImage at 0x1221a2240>"
      ]
     },
     "execution_count": 176,
     "metadata": {},
     "output_type": "execute_result"
    },
    {
     "data": {
      "image/png": "[encoded data removed]",
      "text/plain": [
       "<Figure size 640x480 with 1 Axes>"
      ]
     },
     "metadata": {},
     "output_type": "display_data"
    }
   ],
   "source": [
    "plt.imshow(Image.open('./top4point3k_no_star_beam/TILE102160612_2744438726684024659.png'))"
   ]
  },
  {
   "cell_type": "code",
   "execution_count": 218,
   "id": "7fae1c9a",
   "metadata": {},
   "outputs": [
    {
     "data": {
      "text/plain": [
       "array([[[0, 0],\n",
       "        [0, 0],\n",
       "        [0, 0],\n",
       "        ...,\n",
       "        [0, 0],\n",
       "        [0, 0],\n",
       "        [0, 0]],\n",
       "\n",
       "       [[0, 0],\n",
       "        [0, 0],\n",
       "        [0, 0],\n",
       "        ...,\n",
       "        [0, 0],\n",
       "        [0, 0],\n",
       "        [0, 0]],\n",
       "\n",
       "       [[0, 0],\n",
       "        [0, 0],\n",
       "        [0, 0],\n",
       "        ...,\n",
       "        [0, 0],\n",
       "        [0, 0],\n",
       "        [0, 0]],\n",
       "\n",
       "       ...,\n",
       "\n",
       "       [[0, 0],\n",
       "        [0, 0],\n",
       "        [0, 0],\n",
       "        ...,\n",
       "        [0, 0],\n",
       "        [0, 0],\n",
       "        [0, 0]],\n",
       "\n",
       "       [[0, 0],\n",
       "        [0, 0],\n",
       "        [0, 0],\n",
       "        ...,\n",
       "        [0, 0],\n",
       "        [0, 0],\n",
       "        [0, 0]],\n",
       "\n",
       "       [[0, 0],\n",
       "        [0, 0],\n",
       "        [0, 0],\n",
       "        ...,\n",
       "        [0, 0],\n",
       "        [0, 0],\n",
       "        [0, 0]]], dtype=uint8)"
      ]
     },
     "execution_count": 218,
     "metadata": {},
     "output_type": "execute_result"
    }
   ],
   "source": [
    "inspect = np.array(Image.open('./top4point3k_no_star_beams/TILE102160612_2744438726684024659.png'))\n",
    "inspect[:,:,:2]"
   ]
  },
  {
   "cell_type": "code",
   "execution_count": 189,
   "id": "c1ab8b53",
   "metadata": {},
   "outputs": [],
   "source": [
    "blue = inspect[0][0][:2]"
   ]
  },
  {
   "cell_type": "code",
   "execution_count": 190,
   "id": "a687769c",
   "metadata": {},
   "outputs": [
    {
     "data": {
      "text/plain": [
       "array([0, 0], dtype=uint8)"
      ]
     },
     "execution_count": 190,
     "metadata": {},
     "output_type": "execute_result"
    }
   ],
   "source": [
    "blue"
   ]
  },
  {
   "cell_type": "code",
   "execution_count": 219,
   "id": "c73b4874",
   "metadata": {},
   "outputs": [],
   "source": [
    "blue_paths = []\n",
    "for image in Path(dup_path).iterdir():\n",
    "    if 'DS_Store' not in str(image):\n",
    "        img = np.array(Image.open(image))\n",
    "        if np.sum(img[:,:,:2]) == 0:\n",
    "            blue_paths.append(image)"
   ]
  },
  {
   "cell_type": "code",
   "execution_count": 221,
   "id": "e2007957",
   "metadata": {},
   "outputs": [],
   "source": [
    "for i in range(78):\n",
    "    os.remove(str(blue_paths[i]))"
   ]
  },
  {
   "cell_type": "code",
   "execution_count": 207,
   "id": "603feaa2",
   "metadata": {},
   "outputs": [
    {
     "data": {
      "text/plain": [
       "array([0, 0, 0], dtype=uint8)"
      ]
     },
     "execution_count": 207,
     "metadata": {},
     "output_type": "execute_result"
    }
   ],
   "source": [
    "np.array(Image.open(str(blue_paths[-5])))[0][0]"
   ]
  },
  {
   "cell_type": "code",
   "execution_count": 220,
   "id": "48f28167",
   "metadata": {},
   "outputs": [
    {
     "data": {
      "text/plain": [
       "78"
      ]
     },
     "execution_count": 220,
     "metadata": {},
     "output_type": "execute_result"
    }
   ],
   "source": [
    "len(blue_paths)"
   ]
  },
  {
   "cell_type": "code",
   "execution_count": 250,
   "id": "aca435cc",
   "metadata": {},
   "outputs": [],
   "source": [
    "for path in blue_paths:\n",
    "    # shutil.copy(path, './blues')\n",
    "    os.remove(path)"
   ]
  },
  {
   "cell_type": "code",
   "execution_count": 251,
   "id": "df3f5378",
   "metadata": {},
   "outputs": [],
   "source": [
    "for index in dup_index:\n",
    "    if Path(org_file_paths_sorted[index]).exists():\n",
    "        shutil.copy(org_file_paths_sorted[index], 'dups')\n",
    "        os.remove(org_file_paths_sorted[index])"
   ]
  },
  {
   "cell_type": "code",
   "execution_count": 253,
   "id": "89dbabae",
   "metadata": {},
   "outputs": [],
   "source": [
    "for file in Path('./4k_for_vote').iterdir():\n",
    "    if 'DS' in str(file):\n",
    "        print('DS')\n",
    "        os.remove(file)"
   ]
  }
 ],
 "metadata": {
  "kernelspec": {
   "display_name": "base",
   "language": "python",
   "name": "python3"
  },
  "language_info": {
   "codemirror_mode": {
    "name": "ipython",
    "version": 3
   },
   "file_extension": ".py",
   "mimetype": "text/x-python",
   "name": "python",
   "nbconvert_exporter": "python",
   "pygments_lexer": "ipython3",
   "version": "3.12.4"
  }
 },
 "nbformat": 4,
 "nbformat_minor": 5
}
