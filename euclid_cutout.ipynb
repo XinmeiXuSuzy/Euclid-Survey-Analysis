{
 "cells": [
  {
   "cell_type": "code",
   "execution_count": 1,
   "id": "10f1e9d0-2a76-4c57-ba70-509b5c8c917f",
   "metadata": {},
   "outputs": [],
   "source": [
    "import numpy as np\n",
    "import matplotlib.pyplot as plt\n",
    "from astropy.io import fits\n",
    "from astropy.wcs import WCS\n",
    "from astropy.utils.data import download_file\n",
    "from astropy.nddata import Cutout2D\n",
    "from pathlib import Path\n",
    "import os \n",
    "import re\n",
    "from astropy.coordinates import SkyCoord\n",
    "import zipfile\n",
    "from PIL import Image\n",
    "import io\n",
    "from astropy.stats import sigma_clipped_stats    "
   ]
  },
  {
   "cell_type": "markdown",
   "id": "990f8390-a849-48b8-94ef-4bed5f8f402a",
   "metadata": {},
   "source": [
    "## Convert file names to lists for all 300 tiles\n",
    "\n",
    "#### 1. Specify directories and prefices"
   ]
  },
  {
   "cell_type": "code",
   "execution_count": 2,
   "id": "f78c5389-e656-4d43-bdc6-e93ef560c2e2",
   "metadata": {},
   "outputs": [],
   "source": [
    "# Paths to mosaics and catalogues directories\n",
    "mosaics_path = Path('/data1/euclid_data/mosaics')\n",
    "cat_path = Path('/data1/euclid_data/catalogues')\n",
    "\n",
    "# Pattern to find the 'TILE' identifier followed by digits\n",
    "tile_pattern = re.compile(r'TILE\\d+')\n",
    "\n",
    "# Prefix to filter catalog files (modify as needed)\n",
    "prefix = \"EUC_MER_FINAL-CAT_\""
   ]
  },
  {
   "cell_type": "markdown",
   "id": "dab7ad5a-1e9a-4911-b7a9-6b0ee1de77eb",
   "metadata": {},
   "source": [
    "#### 2. Generate list for final catalogue files"
   ]
  },
  {
   "cell_type": "code",
   "execution_count": 3,
   "id": "df585203-0502-479c-82c2-a129ee7d7a4d",
   "metadata": {},
   "outputs": [],
   "source": [
    "# Get an ordered list of TILE identifiers from cat_path files that start with the prefix\n",
    "cat_list = [] \n",
    "for item in cat_path.iterdir():\n",
    "    if item.name.startswith(prefix) and item.is_file():\n",
    "        cat_match = tile_pattern.search(str(item))\n",
    "        if cat_match:\n",
    "            cat_list.append((cat_match.group(), item))  # (TILE_id, cat_file)"
   ]
  },
  {
   "cell_type": "markdown",
   "id": "5a756b69-ee58-48e3-94f3-ede109fa2184",
   "metadata": {},
   "source": [
    "#### 3. Generate list for masaics files"
   ]
  },
  {
   "cell_type": "code",
   "execution_count": 4,
   "id": "41a0a5bb-644a-4e8a-8a91-4094b8fe572c",
   "metadata": {},
   "outputs": [],
   "source": [
    "# Sort mosaics to match the order of cat_list\n",
    "matching_mosaics = []\n",
    "for tile_id, cat_file in cat_list:\n",
    "    for item in mosaics_path.iterdir():\n",
    "        if item.is_file():\n",
    "            mosaic_match = tile_pattern.search(str(item))\n",
    "            if mosaic_match and mosaic_match.group() == tile_id:\n",
    "                matching_mosaics.append(item)\n",
    "                break  # Stop searching once the matching mosaic is found"
   ]
  },
  {
   "cell_type": "markdown",
   "id": "876d2254-310c-4938-96e5-4dc09c06e9f3",
   "metadata": {},
   "source": [
    "#### 4. Generate list for morphology catalogues"
   ]
  },
  {
   "cell_type": "code",
   "execution_count": 5,
   "id": "a3e35589-1f83-47ef-8ca8-dfe3954beb85",
   "metadata": {},
   "outputs": [
    {
     "name": "stdout",
     "output_type": "stream",
     "text": [
      "344\n"
     ]
    }
   ],
   "source": [
    "# Sort morphology catalogues to match the order of cat_list \n",
    "morph_prefix = 'EUC_MER_FINAL-MORPH-CAT'\n",
    "matching_morph_cat = []\n",
    "for tile_id, cat_file in cat_list:\n",
    "    for item in cat_path.iterdir():\n",
    "        if item.is_file() and (morph_prefix in str(item)):\n",
    "            morph_match = tile_pattern.search(str(item))\n",
    "            if morph_match and morph_match.group() == tile_id: \n",
    "                matching_morph_cat.append(item)\n",
    "                break  # Stop searching once the morph cat is found\n",
    "\n",
    "# Print results\n",
    "print(len(matching_mosaics)) # check integrity "
   ]
  },
  {
   "cell_type": "markdown",
   "id": "93f22678-66ff-4db4-8679-3e18afbec00d",
   "metadata": {},
   "source": [
    "## Adjust the number of tiles used"
   ]
  },
  {
   "cell_type": "code",
   "execution_count": 6,
   "id": "ce00ac36-ef98-4ea1-9e0f-c4b5b869c061",
   "metadata": {},
   "outputs": [],
   "source": [
    "tile_num = 344 # adjust the number of catalogues used "
   ]
  },
  {
   "cell_type": "markdown",
   "id": "eac15474-d42f-4435-b7fe-aa38a4109337",
   "metadata": {},
   "source": [
    "## Building Filters\n",
    "\n",
    "#### 1. Generate a subset without star-like features and too much brightness"
   ]
  },
  {
   "cell_type": "code",
   "execution_count": 7,
   "id": "d8109447-4a22-4941-96f6-21c65be15a53",
   "metadata": {},
   "outputs": [],
   "source": [
    "def ujy_to_mag(ujy):\n",
    "    jy = ujy * 10 ** -6\n",
    "    mag = -2.5 * np.log10(jy) + 8.90\n",
    "    return mag"
   ]
  },
  {
   "cell_type": "code",
   "execution_count": 8,
   "id": "cd851891-3a2a-40cb-901c-6c55cc77131a",
   "metadata": {},
   "outputs": [
    {
     "name": "stdout",
     "output_type": "stream",
     "text": [
      "Completed: 43/344\n",
      "Completed: 86/344\n",
      "Completed: 129/344\n",
      "Completed: 172/344\n",
      "Completed: 215/344\n",
      "Completed: 258/344\n",
      "Completed: 301/344\n",
      "Completed: 344/344\n"
     ]
    }
   ],
   "source": [
    "objectId_list1 = []\n",
    "subset_list = []\n",
    "for i in range(0,tile_num): # Adjust the number of catalogue that will be used \n",
    "    \n",
    "    with fits.open(cat_list[i][1], memmap=True) as hdul:\n",
    "        tab = hdul[1].data\n",
    "        flux_positive = tab['FLUX_DETECTION_TOTAL'] > 0\n",
    "        tab_filtered = tab[flux_positive]        \n",
    "        mag = ujy_to_mag(tab_filtered['FLUX_DETECTION_TOTAL'])\n",
    "        subset = tab_filtered[(mag < 22) & (tab_filtered['POINT_LIKE_FLAG'] != 1)] \n",
    "        subset = subset[subset['DET_QUALITY_FLAG'] < 1]\n",
    "    \n",
    "    subset_list.append((subset['OBJECT_ID'],subset['RIGHT_ASCENSION'],subset['DECLINATION'])) # for all tiles \n",
    "    \n",
    "    objectId_list1.append(subset['OBJECT_ID'])\n",
    "\n",
    "    if (i+1)%43 == 0:\n",
    "        print(f'Completed: {(i+1)}/344')"
   ]
  },
  {
   "cell_type": "markdown",
   "id": "929f9e3e-9a3d-4da7-b7d0-c8310eb1ab9e",
   "metadata": {},
   "source": [
    "#### 2. Generate another subset without spiral arms"
   ]
  },
  {
   "cell_type": "code",
   "execution_count": 9,
   "id": "4e6c43a7-1fe4-43d5-92c8-5782fef00b02",
   "metadata": {},
   "outputs": [
    {
     "name": "stdout",
     "output_type": "stream",
     "text": [
      "Completed: 43/344\n",
      "Completed: 86/344\n",
      "Completed: 129/344\n",
      "Completed: 172/344\n",
      "Completed: 215/344\n",
      "Completed: 258/344\n",
      "Completed: 301/344\n",
      "Completed: 344/344\n"
     ]
    }
   ],
   "source": [
    "objectId_list2 = []\n",
    "for i in range(0,tile_num): # Adjust the number of catalogue that will be used \n",
    "    \n",
    "    with fits.open(matching_morph_cat[i], memmap=True) as hdul:\n",
    "        tab = hdul[1].data\n",
    "        tab_new = tab[~((tab['HAS_SPIRAL_ARMS_YES']+(100-tab['HAS_SPIRAL_ARMS_NO']))/200 > 0.5)]\n",
    "\n",
    "    objectId_list2.append(tab_new['OBJECT_ID'])\n",
    "    if (i+1)%43 == 0:\n",
    "        print(f'Completed: {(i+1)}/344')"
   ]
  },
  {
   "cell_type": "markdown",
   "id": "6643e58b-9588-4b97-933e-d486e0d9d537",
   "metadata": {},
   "source": [
    "#### 3. Extract the overlapping `OBJECT_ID`s from the two lists"
   ]
  },
  {
   "cell_type": "code",
   "execution_count": 10,
   "id": "ff616f45-cc0a-4161-bd06-a6439f80dd20",
   "metadata": {},
   "outputs": [
    {
     "name": "stdout",
     "output_type": "stream",
     "text": [
      "Completed: 43/344\n",
      "Completed: 86/344\n",
      "Completed: 129/344\n",
      "Completed: 172/344\n",
      "Completed: 215/344\n",
      "Completed: 258/344\n",
      "Completed: 301/344\n",
      "Completed: 344/344\n"
     ]
    }
   ],
   "source": [
    "merged_objectId_list = [] # for all tiles \n",
    "for i in range(0,tile_num): # iterate each tile  \n",
    "    single_objectId_list = list(set(objectId_list1[i]).intersection(objectId_list2[i]))\n",
    "    merged_objectId_list.append(single_objectId_list)\n",
    "    \n",
    "    if (i+1)%43 == 0:\n",
    "        print(f'Completed: {(i+1)}/344')"
   ]
  },
  {
   "cell_type": "markdown",
   "id": "316e6260-6b2f-4ebc-aa3f-7bdecbd52360",
   "metadata": {},
   "source": [
    "## Cutout Generation\n",
    "\n",
    "#### 1. Generate RA and DEC Lists for Real World Coordinates by matching `OBJECT_ID`"
   ]
  },
  {
   "cell_type": "code",
   "execution_count": 11,
   "id": "e16d2cb1-f76e-4f36-b9da-863e3f69e734",
   "metadata": {
    "scrolled": true
   },
   "outputs": [
    {
     "name": "stdout",
     "output_type": "stream",
     "text": [
      "Completed: 43/344\n",
      "Completed: 86/344\n",
      "Completed: 129/344\n",
      "Completed: 172/344\n",
      "Completed: 215/344\n",
      "Completed: 258/344\n",
      "Completed: 301/344\n",
      "Completed: 344/344\n"
     ]
    }
   ],
   "source": [
    "all_obj_ra_dec = []\n",
    "for i, single_objectId_list in enumerate(merged_objectId_list): # objectIds for a single tile \n",
    "    # for j, single_subset in enumerate(subset_list): # subset of a single tile \n",
    "    obj_ra_dec = []\n",
    "    for objectId in single_objectId_list: # for each object \n",
    "    #     if objectId in single_subset[0]:\n",
    "        ra = subset_list[i][1][np.where(subset_list[i][0] == objectId)[0][0]]\n",
    "        dec = subset_list[i][2][np.where(subset_list[i][0] == objectId)[0][0]]\n",
    "        obj_ra_dec.append((objectId, ra, dec))\n",
    "    all_obj_ra_dec.append(obj_ra_dec)\n",
    "\n",
    "    if (i+1)%43 == 0:\n",
    "        print(f'Completed: {(i+1)}/344')"
   ]
  },
  {
   "cell_type": "code",
   "execution_count": null,
   "id": "402ca95b-24b3-4976-a08c-a593b5925dad",
   "metadata": {},
   "outputs": [],
   "source": []
  },
  {
   "cell_type": "markdown",
   "id": "16ca792b-b085-40c9-98db-18915addf234",
   "metadata": {},
   "source": [
    "#### 2. Set Cutout Dimension"
   ]
  },
  {
   "cell_type": "code",
   "execution_count": 12,
   "id": "5a439d23-9065-4665-8bbf-d18ade31fa16",
   "metadata": {},
   "outputs": [],
   "source": [
    "cutout_size = (96,96)"
   ]
  },
  {
   "cell_type": "markdown",
   "id": "28c9aac9-52bc-47ea-b0cf-a64eb5a943f0",
   "metadata": {},
   "source": [
    "#### 3. Produce cutouts and save them in zip file"
   ]
  },
  {
   "cell_type": "code",
   "execution_count": 13,
   "id": "4fce21e1-3aa3-4406-80e1-56f0e1399347",
   "metadata": {},
   "outputs": [],
   "source": [
    "def is_valid_image(cutout_data):\n",
    "\n",
    "    max_val = np.max(cutout_data)  \n",
    "    std_val = np.std(cutout_data)\n",
    "    \n",
    "    # Check if image is too dark\n",
    "    if (max_val < 0.05):\n",
    "        return False\n",
    "    if (max_val < 0.06) & (std_val <= 0.01):\n",
    "        return False \n",
    "    return True"
   ]
  },
  {
   "cell_type": "code",
   "execution_count": 14,
   "id": "58cfed8a-e563-4495-a512-e3b8cc6496df",
   "metadata": {},
   "outputs": [],
   "source": [
    "def not_defected(img):\n",
    "    img = np.array(img)\n",
    "    region = img[46:50,46:50]\n",
    "    is_same = len(np.unique(region)) == 1\n",
    "    is_dark = np.all(region < 150)\n",
    "    if is_same and is_dark:\n",
    "        return False \n",
    "    else:\n",
    "        return True "
   ]
  },
  {
   "cell_type": "code",
   "execution_count": null,
   "id": "82b9ce26-ae48-4cbb-89c0-6e5a02d43c2e",
   "metadata": {
    "scrolled": true
   },
   "outputs": [
    {
     "name": "stderr",
     "output_type": "stream",
     "text": [
      "/tmp/ipykernel_486568/56625887.py:60: RuntimeWarning: invalid value encountered in divide\n",
      "  img_normalized = (img_stretched - vmin) / (vmax - vmin)\n",
      "/tmp/ipykernel_486568/56625887.py:61: RuntimeWarning: invalid value encountered in cast\n",
      "  img_new = Image.fromarray((img_normalized * 255).astype(np.uint8))\n"
     ]
    },
    {
     "name": "stdout",
     "output_type": "stream",
     "text": [
      "Completed: 43/344\n",
      "Completed: 86/344\n",
      "Completed: 129/344\n",
      "Completed: 172/344\n",
      "Completed: 215/344\n",
      "Completed: 258/344\n",
      "Completed: 301/344\n",
      "Completed: 344/344\n"
     ]
    }
   ],
   "source": [
    "# Assuming fits_path is a valid FITS file in the matching_mosaics list\n",
    "fits_path_list = matching_mosaics[0:tile_num] # select mosaics \n",
    "\n",
    "output_dir = '/home/xinmeix/ml_cutouts/final_cutout'  # Update this path to your desired directory\n",
    "# zip_filename = os.path.join(output_dir, 'ml_cutouts_1perc.zip')\n",
    "cutout_files = []\n",
    "all_cutout_files = []\n",
    "\n",
    "for i, fits_path in enumerate(fits_path_list): # iterate through every mosaic file \n",
    "# Open the FITS file\n",
    "    with fits.open(fits_path, memmap=True) as hdul: # for each tile \n",
    "        # Create WCS object from the FITS header\n",
    "        wcs = WCS(hdul[0].header)\n",
    "    \n",
    "        # Convert RA and DEC to a SkyCoord object\n",
    "        onetile_ra_list = np.array([t[1] for t in all_obj_ra_dec[i]]) # ra data for one tile in np array format\n",
    "        onetile_dec_list = np.array([t[2] for t in all_obj_ra_dec[i]]) # dec data for one tile in np array format\n",
    "        onetile_obj_list = [t[0] for t in all_obj_ra_dec[i]]\n",
    "        \n",
    "        sky_coord = SkyCoord(onetile_ra_list, onetile_dec_list, unit='deg', frame='icrs') # for each tile \n",
    "    \n",
    "        # Convert RA, DEC to pixel coordinates using WCS\n",
    "        pixel_coords = wcs.world_to_pixel(sky_coord)\n",
    "\n",
    "        # Loop through the pixel coordinates and generate cutouts\n",
    "        for j, (x, y) in enumerate(zip(pixel_coords[0], pixel_coords[1])): # for each object \n",
    "            x, y = int(np.round(x)), int(np.round(y))\n",
    "            position = (x, y)\n",
    "            \n",
    "            # Create the cutout using Cutout2D\n",
    "            cutout_region = Cutout2D(hdul[0].data, position, size=cutout_size, wcs=wcs)\n",
    "            cutout_data = cutout_region.data\n",
    "\n",
    "            if is_valid_image(cutout_data):\n",
    "        \n",
    "                # Ensure the index is within bounds of the merged objectId list \n",
    "                if j < len(merged_objectId_list[i]):\n",
    "                    # Prepare the filename for each cutout image using the OBJECT_ID\n",
    "                    cutout_filename = f\"{str(matching_mosaics[i])[52:65]}_{onetile_obj_list[j]}.tiff\"\n",
    "                    cutout_path = os.path.join(output_dir, cutout_filename)\n",
    "            \n",
    "                \n",
    "                img = cutout_data\n",
    "                vmin = np.percentile(img, 0.5)  # Use lower percentile (1%) to include more faint features\n",
    "                vmax = np.percentile(img, 99.5)  # Use 99th percentile to avoid extreme bright pixels\n",
    "                img_stretched = np.clip(img, vmin, vmax)\n",
    "                img_normalized = (img_stretched - vmin) / (vmax - vmin)\n",
    "                img_new = Image.fromarray((img_normalized * 255).astype(np.uint8))\n",
    "                # img_new = Image.fromarray(cutout_data)\n",
    "    \n",
    "                if not_defected(img_new):\n",
    "                \n",
    "                    img_new.save(cutout_path, format='TIFF') # save in output_dir directly \n",
    "            \n",
    "                    # Add the file to the list of cutouts to be added to the ZIP file\n",
    "                    cutout_files.append(cutout_filename)\n",
    "    \n",
    "    all_cutout_files.append(cutout_files) # append cutouts of each tile to cutout files for all tiles \n",
    "    if (i+1)%43 == 0:\n",
    "        print(f'Completed: {(i+1)}/344')\n",
    "    "
   ]
  }
 ],
 "metadata": {
  "kernelspec": {
   "display_name": "Python (ml)",
   "language": "python",
   "name": "ml"
  },
  "language_info": {
   "codemirror_mode": {
    "name": "ipython",
    "version": 3
   },
   "file_extension": ".py",
   "mimetype": "text/x-python",
   "name": "python",
   "nbconvert_exporter": "python",
   "pygments_lexer": "ipython3",
   "version": "3.9.20"
  }
 },
 "nbformat": 4,
 "nbformat_minor": 5
}
